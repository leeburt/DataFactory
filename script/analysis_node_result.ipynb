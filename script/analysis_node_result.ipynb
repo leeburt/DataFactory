{
 "cells": [
  {
   "cell_type": "code",
   "execution_count": 7,
   "metadata": {},
   "outputs": [
    {
     "name": "stdout",
     "output_type": "stream",
     "text": [
      "773_block_circuit_train_15k_0321_000858.jpg\n",
      "620_block_circuit_train_15k_0321_000858.jpg\n",
      "637_block_circuit_train_15k_0321_000858.jpg\n",
      "852_block_circuit_train_15k_0321_000858.jpg\n",
      "639_block_circuit_train_15k_0321_000858.jpg\n",
      "1042_block_circuit_train_15k_0321_000859.jpg\n",
      "888_block_circuit_train_15k_0321_000858.jpg\n",
      "668_block_circuit_train_15k_0321_000858.jpg\n",
      "576_block_circuit_train_15k_0321_000858.jpg\n",
      "937_block_circuit_train_15k_0321_000858.jpg\n",
      "674_block_circuit_train_15k_0321_000858.jpg\n",
      "671_block_circuit_train_15k_0321_000858.jpg\n",
      "583_block_circuit_train_15k_0321_000858.jpg\n",
      "986_block_circuit_train_15k_0321_000859.jpg\n",
      "1023_block_circuit_train_15k_0321_000859.jpg\n",
      "608_block_circuit_train_15k_0321_000858.jpg\n",
      "697_block_circuit_train_15k_0321_000858.jpg\n"
     ]
    }
   ],
   "source": [
    "import os \n",
    "import json \n",
    "json_path = \"/data/home/libo/work/DataFactory/results/qwen_7b_v6/model_analysis.json\"\n",
    "\n",
    "with open(json_path, \"r\") as f:\n",
    "    data = json.load(f)\n",
    "\n",
    "\n",
    "all_data = []   \n",
    "for image_name, image_data in data.items():\n",
    "    print(image_name)\n",
    "    for component_box, component_data in image_data['component_details'].items():\n",
    "        try:\n",
    "            \n",
    "            input_ouput_num = len(component_data['description']['connections']['input']) + len(component_data['description']['connections']['output'])+len(component_data['description']['connections']['bidirectional'])\n",
    "            det_io_num = len(component_data['det_io_info']['input']) + len(component_data['det_io_info']['output'])\n",
    "            ori_is_match = component_data['io_num_match'] \n",
    "            new_is_match = input_ouput_num == det_io_num\n",
    "            node_name = component_data['description']['component_name']\n",
    "            all_data.append({\n",
    "                'image_name': image_name,\n",
    "                'component_name': node_name,\n",
    "                'box': component_box,\n",
    "                'input':component_data['description']['connections']['input'], \n",
    "                'output':component_data['description']['connections']['output'],\n",
    "                'bidirectional':component_data['description']['connections']['bidirectional'],\n",
    "                'ori_is_match': ori_is_match,\n",
    "                'new_is_match': new_is_match\n",
    "            })\n",
    "        except Exception as e:\n",
    "            print(e)\n",
    "            print(component_data)\n"
   ]
  },
  {
   "cell_type": "code",
   "execution_count": 8,
   "metadata": {},
   "outputs": [
    {
     "name": "stdout",
     "output_type": "stream",
     "text": [
      "<class 'pandas.core.frame.DataFrame'>\n",
      "RangeIndex: 142 entries, 0 to 141\n",
      "Data columns (total 8 columns):\n",
      " #   Column          Non-Null Count  Dtype \n",
      "---  ------          --------------  ----- \n",
      " 0   image_name      142 non-null    object\n",
      " 1   component_name  142 non-null    object\n",
      " 2   input           142 non-null    object\n",
      " 3   output          142 non-null    object\n",
      " 4   bidirectional   142 non-null    object\n",
      " 5   box             142 non-null    object\n",
      " 6   ori_is_match    142 non-null    bool  \n",
      " 7   new_is_match    142 non-null    bool  \n",
      "dtypes: bool(2), object(6)\n",
      "memory usage: 7.1+ KB\n"
     ]
    }
   ],
   "source": [
    "import pandas as pd \n",
    "pd_data = pd.DataFrame(all_data,columns=['image_name','component_name','input','output','bidirectional','box','ori_is_match','new_is_match'])\n",
    "pd_data.info()"
   ]
  },
  {
   "cell_type": "code",
   "execution_count": 9,
   "metadata": {},
   "outputs": [
    {
     "data": {
      "text/html": [
       "<div>\n",
       "<style scoped>\n",
       "    .dataframe tbody tr th:only-of-type {\n",
       "        vertical-align: middle;\n",
       "    }\n",
       "\n",
       "    .dataframe tbody tr th {\n",
       "        vertical-align: top;\n",
       "    }\n",
       "\n",
       "    .dataframe thead th {\n",
       "        text-align: right;\n",
       "    }\n",
       "</style>\n",
       "<table border=\"1\" class=\"dataframe\">\n",
       "  <thead>\n",
       "    <tr style=\"text-align: right;\">\n",
       "      <th></th>\n",
       "      <th>image_name</th>\n",
       "      <th>component_name</th>\n",
       "      <th>input</th>\n",
       "      <th>output</th>\n",
       "      <th>bidirectional</th>\n",
       "      <th>box</th>\n",
       "      <th>ori_is_match</th>\n",
       "      <th>new_is_match</th>\n",
       "    </tr>\n",
       "  </thead>\n",
       "  <tbody>\n",
       "    <tr>\n",
       "      <th>0</th>\n",
       "      <td>773_block_circuit_train_15k_0321_000858.jpg</td>\n",
       "      <td>÷M</td>\n",
       "      <td>[{'name': 'CLK_IN', 'box': '()', 'visual_posit...</td>\n",
       "      <td>[{'name': 'PFD', 'box': '(660, 117, 918, 284)'}]</td>\n",
       "      <td>[]</td>\n",
       "      <td>[299, 86, 524, 231]</td>\n",
       "      <td>False</td>\n",
       "      <td>False</td>\n",
       "    </tr>\n",
       "    <tr>\n",
       "      <th>1</th>\n",
       "      <td>773_block_circuit_train_15k_0321_000858.jpg</td>\n",
       "      <td>LF</td>\n",
       "      <td>[{'name': 'PFD', 'box': '(687, 117, 916, 282)'...</td>\n",
       "      <td>[{'name': 'VCO', 'box': '(1489, 96, 1650, 306)...</td>\n",
       "      <td>[]</td>\n",
       "      <td>[1075, 117, 1304, 283]</td>\n",
       "      <td>True</td>\n",
       "      <td>True</td>\n",
       "    </tr>\n",
       "    <tr>\n",
       "      <th>2</th>\n",
       "      <td>773_block_circuit_train_15k_0321_000858.jpg</td>\n",
       "      <td>÷N</td>\n",
       "      <td>[{'name': 'CLKOUT', 'box': '()'}]</td>\n",
       "      <td>[{'name': 'PFD', 'box': '(690, 116, 950, 284)'}]</td>\n",
       "      <td>[]</td>\n",
       "      <td>[1087, 450, 1299, 583]</td>\n",
       "      <td>False</td>\n",
       "      <td>False</td>\n",
       "    </tr>\n",
       "    <tr>\n",
       "      <th>3</th>\n",
       "      <td>773_block_circuit_train_15k_0321_000858.jpg</td>\n",
       "      <td>LF</td>\n",
       "      <td>[{'name': 'PFD', 'box': '(554, 118, 814, 283)'...</td>\n",
       "      <td>[{'name': 'VCO', 'box': '(1102, 96, 1301, 306)...</td>\n",
       "      <td>[]</td>\n",
       "      <td>[716, 118, 976, 283]</td>\n",
       "      <td>False</td>\n",
       "      <td>False</td>\n",
       "    </tr>\n",
       "    <tr>\n",
       "      <th>4</th>\n",
       "      <td>620_block_circuit_train_15k_0321_000858.jpg</td>\n",
       "      <td>PID</td>\n",
       "      <td>[{'name': 'Summing junction', 'box': '(136, 41...</td>\n",
       "      <td>[{'name': 'D/A', 'box': '(480, 18, 588, 100)',...</td>\n",
       "      <td>[]</td>\n",
       "      <td>[318, 18, 425, 100]</td>\n",
       "      <td>True</td>\n",
       "      <td>True</td>\n",
       "    </tr>\n",
       "    <tr>\n",
       "      <th>...</th>\n",
       "      <td>...</td>\n",
       "      <td>...</td>\n",
       "      <td>...</td>\n",
       "      <td>...</td>\n",
       "      <td>...</td>\n",
       "      <td>...</td>\n",
       "      <td>...</td>\n",
       "      <td>...</td>\n",
       "    </tr>\n",
       "    <tr>\n",
       "      <th>137</th>\n",
       "      <td>697_block_circuit_train_15k_0321_000858.jpg</td>\n",
       "      <td>Amp</td>\n",
       "      <td>[]</td>\n",
       "      <td>[{'name': '施密特触发器', 'box': '(684, 268, 779, 45...</td>\n",
       "      <td>[{'name': 'Offset Cancelling', 'box': '(401, 2...</td>\n",
       "      <td>[531, 268, 627, 452]</td>\n",
       "      <td>False</td>\n",
       "      <td>True</td>\n",
       "    </tr>\n",
       "    <tr>\n",
       "      <th>138</th>\n",
       "      <td>697_block_circuit_train_15k_0321_000858.jpg</td>\n",
       "      <td>Logical</td>\n",
       "      <td>[{'name': 'Inverter', 'box': '(683, 268, 761, ...</td>\n",
       "      <td>[{'name': 'Output', 'box': '()', 'visual_posit...</td>\n",
       "      <td>[]</td>\n",
       "      <td>[829, 258, 906, 465]</td>\n",
       "      <td>False</td>\n",
       "      <td>True</td>\n",
       "    </tr>\n",
       "    <tr>\n",
       "      <th>139</th>\n",
       "      <td>697_block_circuit_train_15k_0321_000858.jpg</td>\n",
       "      <td>Offset Cancelling</td>\n",
       "      <td>[]</td>\n",
       "      <td>[]</td>\n",
       "      <td>[{'name': 'Hall Plate', 'box': '(213, 220, 379...</td>\n",
       "      <td>[405, 258, 496, 465]</td>\n",
       "      <td>False</td>\n",
       "      <td>False</td>\n",
       "    </tr>\n",
       "    <tr>\n",
       "      <th>140</th>\n",
       "      <td>697_block_circuit_train_15k_0321_000858.jpg</td>\n",
       "      <td>Gnd</td>\n",
       "      <td>[]</td>\n",
       "      <td>[]</td>\n",
       "      <td>[{'name': 'Output', 'box': '(1066, 229, 1122, ...</td>\n",
       "      <td>[1066, 365, 1134, 431]</td>\n",
       "      <td>False</td>\n",
       "      <td>False</td>\n",
       "    </tr>\n",
       "    <tr>\n",
       "      <th>141</th>\n",
       "      <td>697_block_circuit_train_15k_0321_000858.jpg</td>\n",
       "      <td>Vdd</td>\n",
       "      <td>[]</td>\n",
       "      <td>[]</td>\n",
       "      <td>[{'name': 'Reg./Switch', 'box': '(6, 125, 197,...</td>\n",
       "      <td>[68, 6, 137, 74]</td>\n",
       "      <td>False</td>\n",
       "      <td>False</td>\n",
       "    </tr>\n",
       "  </tbody>\n",
       "</table>\n",
       "<p>142 rows × 8 columns</p>\n",
       "</div>"
      ],
      "text/plain": [
       "                                      image_name     component_name  \\\n",
       "0    773_block_circuit_train_15k_0321_000858.jpg                 ÷M   \n",
       "1    773_block_circuit_train_15k_0321_000858.jpg                 LF   \n",
       "2    773_block_circuit_train_15k_0321_000858.jpg                 ÷N   \n",
       "3    773_block_circuit_train_15k_0321_000858.jpg                 LF   \n",
       "4    620_block_circuit_train_15k_0321_000858.jpg                PID   \n",
       "..                                           ...                ...   \n",
       "137  697_block_circuit_train_15k_0321_000858.jpg                Amp   \n",
       "138  697_block_circuit_train_15k_0321_000858.jpg            Logical   \n",
       "139  697_block_circuit_train_15k_0321_000858.jpg  Offset Cancelling   \n",
       "140  697_block_circuit_train_15k_0321_000858.jpg                Gnd   \n",
       "141  697_block_circuit_train_15k_0321_000858.jpg                Vdd   \n",
       "\n",
       "                                                 input  \\\n",
       "0    [{'name': 'CLK_IN', 'box': '()', 'visual_posit...   \n",
       "1    [{'name': 'PFD', 'box': '(687, 117, 916, 282)'...   \n",
       "2                    [{'name': 'CLKOUT', 'box': '()'}]   \n",
       "3    [{'name': 'PFD', 'box': '(554, 118, 814, 283)'...   \n",
       "4    [{'name': 'Summing junction', 'box': '(136, 41...   \n",
       "..                                                 ...   \n",
       "137                                                 []   \n",
       "138  [{'name': 'Inverter', 'box': '(683, 268, 761, ...   \n",
       "139                                                 []   \n",
       "140                                                 []   \n",
       "141                                                 []   \n",
       "\n",
       "                                                output  \\\n",
       "0     [{'name': 'PFD', 'box': '(660, 117, 918, 284)'}]   \n",
       "1    [{'name': 'VCO', 'box': '(1489, 96, 1650, 306)...   \n",
       "2     [{'name': 'PFD', 'box': '(690, 116, 950, 284)'}]   \n",
       "3    [{'name': 'VCO', 'box': '(1102, 96, 1301, 306)...   \n",
       "4    [{'name': 'D/A', 'box': '(480, 18, 588, 100)',...   \n",
       "..                                                 ...   \n",
       "137  [{'name': '施密特触发器', 'box': '(684, 268, 779, 45...   \n",
       "138  [{'name': 'Output', 'box': '()', 'visual_posit...   \n",
       "139                                                 []   \n",
       "140                                                 []   \n",
       "141                                                 []   \n",
       "\n",
       "                                         bidirectional  \\\n",
       "0                                                   []   \n",
       "1                                                   []   \n",
       "2                                                   []   \n",
       "3                                                   []   \n",
       "4                                                   []   \n",
       "..                                                 ...   \n",
       "137  [{'name': 'Offset Cancelling', 'box': '(401, 2...   \n",
       "138                                                 []   \n",
       "139  [{'name': 'Hall Plate', 'box': '(213, 220, 379...   \n",
       "140  [{'name': 'Output', 'box': '(1066, 229, 1122, ...   \n",
       "141  [{'name': 'Reg./Switch', 'box': '(6, 125, 197,...   \n",
       "\n",
       "                        box  ori_is_match  new_is_match  \n",
       "0       [299, 86, 524, 231]         False         False  \n",
       "1    [1075, 117, 1304, 283]          True          True  \n",
       "2    [1087, 450, 1299, 583]         False         False  \n",
       "3      [716, 118, 976, 283]         False         False  \n",
       "4       [318, 18, 425, 100]          True          True  \n",
       "..                      ...           ...           ...  \n",
       "137    [531, 268, 627, 452]         False          True  \n",
       "138    [829, 258, 906, 465]         False          True  \n",
       "139    [405, 258, 496, 465]         False         False  \n",
       "140  [1066, 365, 1134, 431]         False         False  \n",
       "141        [68, 6, 137, 74]         False         False  \n",
       "\n",
       "[142 rows x 8 columns]"
      ]
     },
     "execution_count": 9,
     "metadata": {},
     "output_type": "execute_result"
    }
   ],
   "source": [
    "pd_data"
   ]
  },
  {
   "cell_type": "code",
   "execution_count": 47,
   "metadata": {},
   "outputs": [
    {
     "data": {
      "text/plain": [
       "12"
      ]
     },
     "execution_count": 47,
     "metadata": {},
     "output_type": "execute_result"
    }
   ],
   "source": [
    "len(pd_data[pd_data.ori_is_match==True].image_name.unique())"
   ]
  },
  {
   "cell_type": "code",
   "execution_count": 10,
   "metadata": {},
   "outputs": [
    {
     "data": {
      "text/plain": [
       "ori_is_match\n",
       "False    87\n",
       "True     55\n",
       "Name: count, dtype: int64"
      ]
     },
     "execution_count": 10,
     "metadata": {},
     "output_type": "execute_result"
    }
   ],
   "source": [
    "pd_data.ori_is_match.value_counts()"
   ]
  },
  {
   "cell_type": "code",
   "execution_count": 6,
   "metadata": {},
   "outputs": [
    {
     "data": {
      "text/plain": [
       "0.391304347826087"
      ]
     },
     "execution_count": 6,
     "metadata": {},
     "output_type": "execute_result"
    }
   ],
   "source": [
    "54/(84+54)"
   ]
  },
  {
   "cell_type": "code",
   "execution_count": 51,
   "metadata": {},
   "outputs": [
    {
     "data": {
      "text/plain": [
       "new_is_match\n",
       "False    118\n",
       "True      38\n",
       "Name: count, dtype: int64"
      ]
     },
     "execution_count": 51,
     "metadata": {},
     "output_type": "execute_result"
    }
   ],
   "source": [
    "pd_data.new_is_match.value_counts()"
   ]
  }
 ],
 "metadata": {
  "kernelspec": {
   "display_name": "swall",
   "language": "python",
   "name": "python3"
  },
  "language_info": {
   "codemirror_mode": {
    "name": "ipython",
    "version": 3
   },
   "file_extension": ".py",
   "mimetype": "text/x-python",
   "name": "python",
   "nbconvert_exporter": "python",
   "pygments_lexer": "ipython3",
   "version": "3.12.2"
  }
 },
 "nbformat": 4,
 "nbformat_minor": 2
}
