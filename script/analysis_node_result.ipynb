{
 "cells": [
  {
   "cell_type": "code",
   "execution_count": 8,
   "metadata": {},
   "outputs": [
    {
     "name": "stdout",
     "output_type": "stream",
     "text": [
      "583_block_circuit_train_15k_0321_000858.jpg\n",
      "[241, 51, 319, 109]\n",
      "description\n",
      "{'component_name': 'Matched Filter', 'connections': {'input': [{'name': 'A/D', 'description': 'Arrow from A/D output into Matched Filter carrying the digitized signal'}], 'output': [{'name': 'Interpolator', 'description': 'Arrow from Matched Filter to Interpolator labeled “x(t)”'}], 'bidirectional': {}}}\n"
     ]
    },
    {
     "ename": "KeyError",
     "evalue": "'description'",
     "output_type": "error",
     "traceback": [
      "\u001b[0;31m---------------------------------------------------------------------------\u001b[0m",
      "\u001b[0;31mKeyError\u001b[0m                                  Traceback (most recent call last)",
      "Cell \u001b[0;32mIn[8], line 17\u001b[0m\n\u001b[1;32m     15\u001b[0m \u001b[38;5;28mprint\u001b[39m(box)\n\u001b[1;32m     16\u001b[0m \u001b[38;5;28mprint\u001b[39m(detail_info)\n\u001b[0;32m---> 17\u001b[0m \u001b[38;5;28mprint\u001b[39m(detail_info[\u001b[38;5;124m'\u001b[39m\u001b[38;5;124mdescription\u001b[39m\u001b[38;5;124m'\u001b[39m])\n\u001b[1;32m     18\u001b[0m \u001b[38;5;28mprint\u001b[39m(detail_info[\u001b[38;5;124m'\u001b[39m\u001b[38;5;124mwarning\u001b[39m\u001b[38;5;124m'\u001b[39m])\n\u001b[1;32m     19\u001b[0m \u001b[38;5;28mprint\u001b[39m(detail_info[\u001b[38;5;124m'\u001b[39m\u001b[38;5;124mio_num_match\u001b[39m\u001b[38;5;124m'\u001b[39m])\n",
      "\u001b[0;31mKeyError\u001b[0m: 'description'"
     ]
    }
   ],
   "source": [
    "import os \n",
    "import json \n",
    "json_path = \"/data/home/libo/work/DataFactory/results/test_det_node_v7/model_analysis.json\"\n",
    "\n",
    "with open(json_path, \"r\") as f:\n",
    "    data = json.load(f)\n",
    "\n",
    "\n",
    "all_data = []   \n",
    "for image_name, image_data in data.items():\n",
    "    print(image_name)\n",
    "    for component_name, component_data in image_data['component_details'].items():\n",
    "        for box, detail_info in component_data.items():\n",
    "            input_ouput_num = len(detail_info['description']['connections']['input']) + len(detail_info['description']['connections']['output'])+len(detail_info['description']['connections']['bidirectional'])\n",
    "            det_io_num = len(detail_info['det_io_info']['input']) + len(detail_info['det_io_info']['output'])\n",
    "            ori_is_match = detail_info['io_num_match'] \n",
    "            new_is_match = input_ouput_num == det_io_num\n",
    "            all_data.append({\n",
    "                'image_name': image_name,\n",
    "                'component_name': component_name,\n",
    "                'box': box,\n",
    "                'ori_is_match': ori_is_match,\n",
    "                'new_is_match': new_is_match\n",
    "            })\n"
   ]
  }
 ],
 "metadata": {
  "kernelspec": {
   "display_name": "swall",
   "language": "python",
   "name": "python3"
  },
  "language_info": {
   "codemirror_mode": {
    "name": "ipython",
    "version": 3
   },
   "file_extension": ".py",
   "mimetype": "text/x-python",
   "name": "python",
   "nbconvert_exporter": "python",
   "pygments_lexer": "ipython3",
   "version": "3.12.2"
  }
 },
 "nbformat": 4,
 "nbformat_minor": 2
}
