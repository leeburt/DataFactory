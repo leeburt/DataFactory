{
 "cells": [
  {
   "cell_type": "code",
   "execution_count": 11,
   "metadata": {},
   "outputs": [
    {
     "name": "stdout",
     "output_type": "stream",
     "text": [
      "总共4329张图片,成功保存2175张图片!\n"
     ]
    }
   ],
   "source": [
    "import json \n",
    "import os\n",
    "image_path=\"/data/home/libo/work/data_juice/dataset/cleaned_data/can_be_converted\"\n",
    "json_path = \"/data/home/libo/work/DataFactory/label_tools/tag_image/label/systemblock_annotations.json\"\n",
    "save_path = \"/data/home/libo/work/DataFactory/.cache/can_be_converted_img/tagged_image\"\n",
    "import shutil   \n",
    "\n",
    "## 读取json文件\n",
    "with open(json_path, 'r') as f:\n",
    "    data = json.load(f)\n",
    "\n",
    "count = 0\n",
    "for image_name, image_data in data.items():\n",
    "    image_dir = os.path.join(image_path, image_name)\n",
    "\n",
    "    if \"标准系统框图\" in image_data['tags']  and len(image_data['tags']) == 1:\n",
    "        shutil.copy(image_dir, os.path.join(save_path, image_name))\n",
    "        count += 1\n",
    "    else:\n",
    "        continue            \n",
    "print(f\"总共{len(data)}张图片,成功保存{count}张图片!\")"
   ]
  }
 ],
 "metadata": {
  "kernelspec": {
   "display_name": "swall",
   "language": "python",
   "name": "python3"
  },
  "language_info": {
   "codemirror_mode": {
    "name": "ipython",
    "version": 3
   },
   "file_extension": ".py",
   "mimetype": "text/x-python",
   "name": "python",
   "nbconvert_exporter": "python",
   "pygments_lexer": "ipython3",
   "version": "3.12.2"
  }
 },
 "nbformat": 4,
 "nbformat_minor": 2
}
