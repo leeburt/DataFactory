{
 "cells": [
  {
   "cell_type": "code",
   "execution_count": 4,
   "metadata": {},
   "outputs": [
    {
     "name": "stdout",
     "output_type": "stream",
     "text": [
      "model: checkpoint-135\n",
      "/data/home/libo/work/DataFactory/.cache/images/583_block_circuit_train_15k_0321_000858.jpg\n",
      "{\"component_name\": \"A/D\", \"input\": [{\"name\": \"Anti-aliasing filter\", \"description\": \"Unlabeled analog signal from Anti-aliasing filter into A/D\"}, {\"name\": \"Fixed Clock\", \"description\": \"Clock signal input to A/D\"}], \"output\": [{\"name\": \"Matched Filter\", \"description\": \"Digital output from A/D to Matched Filter\"}], \"bidirectional\": {}, \"box\": \"<|box_start|>(151,48),(208,105)<|box_end|>\"}\n"
     ]
    }
   ],
   "source": [
    "from openai import OpenAI\n",
    "\n",
    "client = OpenAI(\n",
    "    api_key='EMPTY',\n",
    "    base_url=f'http://192.168.99.119:8000/v1',\n",
    ")\n",
    "model = client.models.list().data[0].id\n",
    "print(f'model: {model}')\n",
    "\n",
    "def encode_image(image_path):\n",
    "    with open(image_path, \"rb\") as image_file:\n",
    "        return base64.b64encode(image_file.read()).decode('utf-8')\n",
    "\n",
    "\n",
    "# base64\n",
    "import base64\n",
    "import requests\n",
    "import os \n",
    "import json \n",
    "\n",
    "import os \n",
    "result_data={}\n",
    "import json \n",
    "image_name=\"583_block_circuit_train_15k_0321_000858.jpg\"\n",
    "image_dir =\"/data/home/libo/work/DataFactory/.cache/images/\"\n",
    "image_path =os.path.join(image_dir,image_name)\n",
    "print(image_path)\n",
    "base64_image=encode_image(image_path)\n",
    "messages = [{'role': 'user', 'content': [\n",
    "    {'type': 'image_url', 'image_url': {\"url\":f\"data:image/jpeg;base64,{base64_image}\"}},\n",
    "    {'type': 'text', 'text': 'What are the connections for the component located in <|box_start|>(150,50),(209,109)<|box_end|>?'},\n",
    "    \n",
    "    ]}]\n",
    "query = messages[0]['content']\n",
    "response = client.chat.completions.create(model=model, messages=messages, stream=False, temperature=0.3)\n",
    "print(response.choices[0].message.content)\n",
    "result_data[image_name]=response.choices[0].message.content"
   ]
  }
 ],
 "metadata": {
  "kernelspec": {
   "display_name": "swall",
   "language": "python",
   "name": "python3"
  },
  "language_info": {
   "codemirror_mode": {
    "name": "ipython",
    "version": 3
   },
   "file_extension": ".py",
   "mimetype": "text/x-python",
   "name": "python",
   "nbconvert_exporter": "python",
   "pygments_lexer": "ipython3",
   "version": "3.12.2"
  }
 },
 "nbformat": 4,
 "nbformat_minor": 2
}
