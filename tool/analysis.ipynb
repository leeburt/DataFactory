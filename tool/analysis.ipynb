{
 "cells": [
  {
   "cell_type": "code",
   "execution_count": 21,
   "metadata": {},
   "outputs": [],
   "source": [
    "import os \n",
    "import json \n",
    "\n",
    "def load_json_data(json_file):\n",
    "    \"\"\"加载JSON数据\"\"\"\n",
    "    try:\n",
    "        with open(json_file, 'r', encoding='utf-8') as f:\n",
    "            return json.load(f)\n",
    "    except Exception as e:\n",
    "        print(f\"加载JSON文件时出错: {e}\")\n",
    "        return {}\n",
    "\n",
    "json_file=\"/data/home/libo/work/DataFactory/results/4o_pk_o4_mini_v3/component_consistency_results.json\"\n",
    "json_data = load_json_data(json_file)\n",
    "    "
   ]
  },
  {
   "cell_type": "code",
   "execution_count": 22,
   "metadata": {},
   "outputs": [
    {
     "data": {
      "text/plain": [
       "[['1.jpg', 5, 'Servo Demodulator', 'model2', 100, [2, 2, 2, 100]],\n",
       " ['1.jpg', 5, 'A/D', 'model2', 100, [2, 2, 2, 100]],\n",
       " ['1.jpg', 5, 'DSP', 'model2', 100, [2, 2, 2, 100]],\n",
       " ['1.jpg', 5, 'D/A', 'model2', 100, [2, 2, 2, 100]],\n",
       " ['1.jpg', 5, 'Actuator Driver', 'model2', 100, [2, 2, 2, 100]]]"
      ]
     },
     "execution_count": 22,
     "metadata": {},
     "output_type": "execute_result"
    }
   ],
   "source": [
    "all_data = []\n",
    "for image_name, data in json_data.items():\n",
    "    component_details=data[\"component_details\"]\n",
    "    components = data[\"components\"]\n",
    "    for component_name, component_data in component_details.items():\n",
    "        eval_result = component_data[\"eval_result\"]\n",
    "        better_model = eval_result[\"better_model\"]\n",
    "        score_details= eval_result[\"score_details\"]\n",
    "        consistency_score= eval_result[\"consistency_score\"]\n",
    "        all_data.append([image_name,len(components),component_name,better_model,consistency_score,score_details])\n",
    "all_data[0:5]"
   ]
  },
  {
   "cell_type": "code",
   "execution_count": 23,
   "metadata": {},
   "outputs": [],
   "source": [
    "import pandas as pd\n",
    "df = pd.DataFrame(all_data, columns=['image_name', 'component_count', 'component_name', 'better_model', 'consistency_score', 'score_details'])\n",
    "df.to_csv('../.cache/component_consistency_results.csv', index=False)\n"
   ]
  },
  {
   "cell_type": "code",
   "execution_count": 24,
   "metadata": {},
   "outputs": [
    {
     "data": {
      "text/plain": [
       "<Axes: >"
      ]
     },
     "execution_count": 24,
     "metadata": {},
     "output_type": "execute_result"
    },
    {
     "data": {
      "image/png": "[encoded data removed]",
      "text/plain": [
       "<Figure size 640x480 with 1 Axes>"
      ]
     },
     "metadata": {},
     "output_type": "display_data"
    }
   ],
   "source": [
    "df.consistency_score.hist(bins=100)"
   ]
  },
  {
   "cell_type": "code",
   "execution_count": 29,
   "metadata": {},
   "outputs": [
    {
     "name": "stdout",
     "output_type": "stream",
     "text": [
      "0.3684210526315789 0.40350877192982454 0.42105263157894735 0.42105263157894735\n"
     ]
    }
   ],
   "source": [
    "# 计算>95分的占比\n",
    "P95= df[df.consistency_score > 95].shape[0] / df.shape[0]\n",
    "# 计算>90分的占比\n",
    "P90= df[df.consistency_score > 90].shape[0] / df.shape[0]\n",
    "# 计算>85分的占比\n",
    "P85= df[df.consistency_score > 85].shape[0] / df.shape[0]\n",
    "# 计算>80分的占比\n",
    "P80= df[df.consistency_score > 80].shape[0] / df.shape[0]\n",
    "\n",
    "\n",
    "print( P95\n",
    "      ,P90\n",
    "      ,P85\n",
    "      ,P80)\n"
   ]
  },
  {
   "cell_type": "code",
   "execution_count": 32,
   "metadata": {},
   "outputs": [
    {
     "data": {
      "text/plain": [
       "<Axes: >"
      ]
     },
     "execution_count": 32,
     "metadata": {},
     "output_type": "execute_result"
    },
    {
     "data": {
      "image/png": "[encoded data removed]",
      "text/plain": [
       "<Figure size 640x480 with 1 Axes>"
      ]
     },
     "metadata": {},
     "output_type": "display_data"
    }
   ],
   "source": [
    "df[df.consistency_score > 95].component_count.hist(bins=100)"
   ]
  },
  {
   "cell_type": "code",
   "execution_count": 33,
   "metadata": {},
   "outputs": [
    {
     "data": {
      "text/plain": [
       "component_count\n",
       "24    6\n",
       "5     5\n",
       "6     5\n",
       "10    3\n",
       "8     2\n",
       "Name: count, dtype: int64"
      ]
     },
     "execution_count": 33,
     "metadata": {},
     "output_type": "execute_result"
    }
   ],
   "source": [
    "df[df.consistency_score > 95].component_count.value_counts()"
   ]
  }
 ],
 "metadata": {
  "kernelspec": {
   "display_name": "swall",
   "language": "python",
   "name": "python3"
  },
  "language_info": {
   "codemirror_mode": {
    "name": "ipython",
    "version": 3
   },
   "file_extension": ".py",
   "mimetype": "text/x-python",
   "name": "python",
   "nbconvert_exporter": "python",
   "pygments_lexer": "ipython3",
   "version": "3.12.2"
  }
 },
 "nbformat": 4,
 "nbformat_minor": 2
}
